{
 "cells": [
  {
   "cell_type": "code",
   "execution_count": null,
   "metadata": {
    "collapsed": false
   },
   "outputs": [
    {
     "name": "stdout",
     "output_type": "stream",
     "text": [
      "Enter a ticker symbol in lower case: aapl\n",
      "Enter a company name in lower case: apple\n"
     ]
    }
   ],
   "source": [
    "from bs4 import BeautifulSoup\n",
    "import requests\n",
    "\n",
    "def numOfMentions(ticker, name):\n",
    "    site = requests.get('https://finance.yahoo.com')\n",
    "    c = site.text.lower()\n",
    "    s = c.split(ticker)\n",
    "    print('Ticker symbol appeared', len(s), 'times.')\n",
    "    t = c.split(name)\n",
    "    print('Name appeared', len(t), 'times.')\n",
    "    \n",
    "    return (len(s) + len(t)) - 1 # number of mentions\n",
    "\n",
    "x = input('Enter a ticker symbol in lower case: ')\n",
    "y = input('Enter a company name in lower case: ')\n",
    "numOfMentions(x,y)"
   ]
  },
  {
   "cell_type": "code",
   "execution_count": null,
   "metadata": {
    "collapsed": true
   },
   "outputs": [],
   "source": []
  },
  {
   "cell_type": "code",
   "execution_count": null,
   "metadata": {
    "collapsed": true
   },
   "outputs": [],
   "source": []
  }
 ],
 "metadata": {
  "anaconda-cloud": {},
  "kernelspec": {
   "display_name": "Python [Root]",
   "language": "python",
   "name": "Python [Root]"
  },
  "language_info": {
   "codemirror_mode": {
    "name": "ipython",
    "version": 3
   },
   "file_extension": ".py",
   "mimetype": "text/x-python",
   "name": "python",
   "nbconvert_exporter": "python",
   "pygments_lexer": "ipython3",
   "version": "3.5.2"
  }
 },
 "nbformat": 4,
 "nbformat_minor": 0
}
