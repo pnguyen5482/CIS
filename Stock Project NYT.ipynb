{
 "cells": [
  {
   "cell_type": "code",
   "execution_count": 10,
   "metadata": {
    "collapsed": false
   },
   "outputs": [
    {
     "name": "stdout",
     "output_type": "stream",
     "text": [
      "8\n"
     ]
    }
   ],
   "source": [
    "import requests\n",
    "import json\n",
    "from bs4 import BeautifulSoup\n",
    "\n",
    "api_url = 'https://api.nytimes.com/svc/archive/v1/2016/11.json?api-key=8d8616aa19f5448a96898e789c4c4a32'\n",
    "\n",
    "page = requests.get(api_url) # assigning the url to variable page\n",
    "jmap = json.loads(page.text) # loads makes api response into a dict\n",
    "docs = jmap['response']['docs'] # we want to see the values associated with keys 'response' and 'docs'\n",
    "\n",
    "data=[]\n",
    "fob = open('NYTheadlines.txt', 'w')\n",
    "for x in docs:\n",
    "    pubdate = x['pub_date']\n",
    "    headline = x['headline']['main']\n",
    "    fob.write(pubdate + '\\t' + headline)\n",
    "    fob.write('\\n')\n",
    "    \n",
    "fob.close()\n",
    "\n",
    "total = 0\n",
    "apple = ['Apple', 'AAPL', 'APPLE']\n",
    "fob=open('NYTheadlines.txt', 'r')\n",
    "for line in fob:\n",
    "    headline = line.split('\\t')[1]\n",
    "    if apple[0] in headline or apple[1] in headline or apple[2] in headline:\n",
    "        total += 1\n",
    "    \n",
    "    \n",
    "print(total)"
   ]
  },
  {
   "cell_type": "code",
   "execution_count": null,
   "metadata": {
    "collapsed": true
   },
   "outputs": [],
   "source": [
    "\n",
    "\n",
    "\n",
    "\n",
    "\n",
    "\n",
    "\n"
   ]
  },
  {
   "cell_type": "code",
   "execution_count": null,
   "metadata": {
    "collapsed": true
   },
   "outputs": [],
   "source": []
  }
 ],
 "metadata": {
  "anaconda-cloud": {},
  "kernelspec": {
   "display_name": "Python [Root]",
   "language": "python",
   "name": "Python [Root]"
  },
  "language_info": {
   "codemirror_mode": {
    "name": "ipython",
    "version": 3
   },
   "file_extension": ".py",
   "mimetype": "text/x-python",
   "name": "python",
   "nbconvert_exporter": "python",
   "pygments_lexer": "ipython3",
   "version": "3.5.2"
  }
 },
 "nbformat": 4,
 "nbformat_minor": 0
}
