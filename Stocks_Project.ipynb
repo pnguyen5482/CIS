{
 "cells": [
  {
   "cell_type": "code",
   "execution_count": 1,
   "metadata": {
    "collapsed": false
   },
   "outputs": [
    {
     "name": "stderr",
     "output_type": "stream",
     "text": [
      "C:\\Users\\shuns\\Anaconda3\\lib\\site-packages\\pandas\\io\\data.py:33: FutureWarning: \n",
      "The pandas.io.data module is moved to a separate package (pandas-datareader) and will be removed from pandas in a future version.\n",
      "After installing the pandas-datareader package (https://github.com/pydata/pandas-datareader), you can change the import ``from pandas.io import data, wb`` to ``from pandas_datareader import data, wb``.\n",
      "  FutureWarning)\n"
     ]
    }
   ],
   "source": [
    "import pandas.io.data as pweb\n",
    "import datetime\n",
    "\n",
    "start_date = datetime.datetime.now() + datetime.timedelta(-30)\n",
    "end_date = datetime.datetime.now()\n",
    "ticker=['AAPL', 'MSFT', 'AMZN', 'GOOG']"
   ]
  },
  {
   "cell_type": "code",
   "execution_count": 2,
   "metadata": {
    "collapsed": false
   },
   "outputs": [
    {
     "data": {
      "text/plain": [
       "Date\n",
       "2016-11-08    783.400024\n",
       "2016-11-09    779.940002\n",
       "2016-11-10    791.169983\n",
       "2016-11-11    756.539978\n",
       "2016-11-14    755.599976\n",
       "2016-11-15    746.969971\n",
       "2016-11-16    755.200012\n",
       "2016-11-17    766.919983\n",
       "2016-11-18    771.369995\n",
       "2016-11-21    762.609985\n",
       "2016-11-22    772.630005\n",
       "2016-11-23    767.729980\n",
       "2016-11-25    764.260010\n",
       "2016-11-28    760.000000\n",
       "2016-11-29    771.530029\n",
       "2016-11-30    770.070007\n",
       "2016-12-01    757.440002\n",
       "2016-12-02    744.590027\n",
       "2016-12-05    757.710022\n",
       "2016-12-06    764.729980\n",
       "2016-12-07    761.000000\n",
       "Name: Open, dtype: float64"
      ]
     },
     "execution_count": 2,
     "metadata": {},
     "output_type": "execute_result"
    }
   ],
   "source": [
    "finance=pweb.DataReader('GOOG', 'yahoo', start_date, end_date)['Open']\n",
    "finance"
   ]
  },
  {
   "cell_type": "code",
   "execution_count": 3,
   "metadata": {
    "collapsed": false
   },
   "outputs": [
    {
     "data": {
      "text/plain": [
       "<matplotlib.axes._subplots.AxesSubplot at 0x1f6eaf14c88>"
      ]
     },
     "execution_count": 3,
     "metadata": {},
     "output_type": "execute_result"
    },
    {
     "data": {
      "image/png": "[encoded data removed]",
      "text/plain": [
       "<matplotlib.figure.Figure at 0x1f6ed175978>"
      ]
     },
     "metadata": {},
     "output_type": "display_data"
    }
   ],
   "source": [
    "%matplotlib inline\n",
    "finance.plot()"
   ]
  },
  {
   "cell_type": "code",
   "execution_count": null,
   "metadata": {
    "collapsed": true
   },
   "outputs": [],
   "source": []
  }
 ],
 "metadata": {
  "kernelspec": {
   "display_name": "Python [Root]",
   "language": "python",
   "name": "Python [Root]"
  },
  "language_info": {
   "codemirror_mode": {
    "name": "ipython",
    "version": 3
   },
   "file_extension": ".py",
   "mimetype": "text/x-python",
   "name": "python",
   "nbconvert_exporter": "python",
   "pygments_lexer": "ipython3",
   "version": "3.5.2"
  }
 },
 "nbformat": 4,
 "nbformat_minor": 0
}
