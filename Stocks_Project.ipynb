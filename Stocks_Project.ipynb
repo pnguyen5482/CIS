{
 "cells": [
  {
   "cell_type": "code",
   "execution_count": 10,
   "metadata": {
    "collapsed": false
   },
   "outputs": [
    {
     "name": "stdout",
     "output_type": "stream",
     "text": [
      "Enter the ticker symbol: AAPL\n",
      "  Long Term Moving Average: 110.45999989999997\n",
      "Medium Term Moving Average: 109.81249965000002\n",
      " Short Term Moving Average: 110.4099998\n",
      "\n",
      " False\n"
     ]
    }
   ],
   "source": [
    "import pandas.io.data as pweb\n",
    "import datetime\n",
    "\n",
    "def price_trend(ticker):\n",
    "    start_date = datetime.datetime.now() + datetime.timedelta(-45) # Start date will be 45 days ago in order to ensure 30 prices\n",
    "    end_date = datetime.datetime.now() # Today's date and time\n",
    "    \n",
    "    finance=pweb.DataReader(ticker, 'yahoo', start_date, end_date)['Open']  # Get Opening Price about the ticker fron Yahoo Fin.\n",
    "    #print(finance)  # Can print out the entire dataframe of Opening Price data \n",
    "\n",
    "    long_ma=finance[-30:].sum()/len(finance[-30:])   # Add last 30 days and divide for long term moving avg using slicing\n",
    "    print(\"  Long Term Moving Average:\",long_ma)\n",
    "\n",
    "    med_ma=finance[-20:].sum()/len(finance[-20:])\n",
    "    print(\"Medium Term Moving Average:\",med_ma)\n",
    "\n",
    "    short_ma=finance[-10:].sum()/len(finance[-10:])\n",
    "    print(\" Short Term Moving Average:\",short_ma)\n",
    "    \n",
    "    buy=False  # Boolean variable to indicate wether the moving averages point to a buy (true) or not (false)\n",
    "    \n",
    "    if (short_ma>med_ma and short_ma>long_ma):    # Set Buy to True if short term moving average is greater than med and long\n",
    "        buy=True\n",
    "        \n",
    "    return buy     # Return true or false\n",
    "\n",
    "def main():\n",
    "    stock_input=input(\"Enter the ticker symbol: \")   # User input for which stock he/she is interested in\n",
    "    trend=price_trend(stock_input)\n",
    "    print(\"\\n\",trend)\n",
    "\n",
    "main()"
   ]
  },
  {
   "cell_type": "code",
   "execution_count": null,
   "metadata": {
    "collapsed": true
   },
   "outputs": [],
   "source": []
  }
 ],
 "metadata": {
  "kernelspec": {
   "display_name": "Python [Root]",
   "language": "python",
   "name": "Python [Root]"
  },
  "language_info": {
   "codemirror_mode": {
    "name": "ipython",
    "version": 3
   },
   "file_extension": ".py",
   "mimetype": "text/x-python",
   "name": "python",
   "nbconvert_exporter": "python",
   "pygments_lexer": "ipython3",
   "version": "3.5.2"
  }
 },
 "nbformat": 4,
 "nbformat_minor": 0
}
